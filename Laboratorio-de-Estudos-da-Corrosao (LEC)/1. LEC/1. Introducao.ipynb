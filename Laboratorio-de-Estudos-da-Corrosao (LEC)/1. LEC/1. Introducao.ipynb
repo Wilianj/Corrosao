{
 "cells": [
  {
   "cell_type": "markdown",
   "metadata": {},
   "source": [
    "## O LEC\n",
    "\n",
    "O projeto LEC consiste em desenvolver documentos com código incorparado, executados em tempo real, usando o ambiente computacional *Jupyter Python notebook*, de forma a contribuir na formação acadêmica e profissional de estudantes e pesquisadores interessados em trabalhar na área de corrosão. A plataforma *GitHub* é utilizada para a divulgação do projeto, assim como para a sua eterna atualização.\n",
    "\n",
    "O ambiente *web* de divulgação científica aborda importantes questões conceituais acerca dos tipos de corrosão, assim como das técnicas de combate. Métodos numéricos em problemas de engenharia da corrosão também são abordados neste projeto.\n",
    "Do ponto de vista computacional, o LEC propõe auxiliar em projetos de pesquisa e desenvolvimento que envolvam problemas relacionados à proteção catódica, tais como obtenção das curvas de polarização e otimização de sistemas de proteção catódica.\n",
    "\n",
    "\n"
   ]
  }
 ],
 "metadata": {
  "kernelspec": {
   "display_name": "Python 3",
   "language": "python",
   "name": "python3"
  },
  "language_info": {
   "codemirror_mode": {
    "name": "ipython",
    "version": 3
   },
   "file_extension": ".py",
   "mimetype": "text/x-python",
   "name": "python",
   "nbconvert_exporter": "python",
   "pygments_lexer": "ipython3",
   "version": "3.7.1"
  }
 },
 "nbformat": 4,
 "nbformat_minor": 2
}
