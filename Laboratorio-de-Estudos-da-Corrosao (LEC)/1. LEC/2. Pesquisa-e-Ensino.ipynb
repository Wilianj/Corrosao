{
 "cells": [
  {
   "cell_type": "markdown",
   "metadata": {},
   "source": [
    "No LEC é possível encontrar conceitos teóricos e práticos relacionados aos temas de 'Corrosão e Proteção' e 'Métodos Numéricos Computacionais'.\n",
    "\n",
    "\n",
    "## Corrosão e Proteção\n",
    "\n",
    "- Corrosão eletroquímica\n",
    "\n",
    "- Curvas de polarização\n",
    "\n",
    "- Critérios de proteção\n",
    "\n",
    "- Proteção catódica\n",
    "\n",
    "- Dimensionamento de sistemas de proteção catódica\n",
    "\n",
    "- Revestimento de metais\n",
    "\n",
    "- Taxa de corrosão\n",
    "\n",
    "- Corrente de fuga\n",
    "\n",
    "\n",
    "\n",
    "## Métodos Numéricos Computacionais\n",
    "\n",
    "- Funcões de Interpolação\n",
    "\n",
    " - Funções de Base Radial\n",
    " \n",
    "\n",
    "- Funções de Aproximação\n",
    " \n",
    " - Mínimos Quadrados Móveis \n",
    " \n",
    "\n",
    "- Quadrados Mínimos Linear\n",
    "\n",
    "\n",
    "- Quadrados Mínimos Não Linear\n",
    "\n",
    " - Método de Gauss-Newton\n",
    " - Método de Levenberg-Marquardt\n",
    " - Métodos de quasi-Newton\n",
    " \n",
    " \n",
    "- Métodos discretos para a solução de equações diferenciais\n",
    "\n",
    " - Método das Diferenças Finitas\n",
    " \n",
    " - Método dos Volumes Finitos\n",
    " \n",
    " - Método dos Elementos Finitos\n",
    " \n",
    " - Método dos Elementos de Contorno\n",
    " \n",
    " - Métodos sem Malha\n",
    " \n",
    " \n",
    "- Otimização\n",
    "\n",
    " - Algoritmos Genéticos (representações real e binária)\n",
    "\n",
    "\n",
    "- Problemas inversos\n",
    "\n",
    "\n",
    "\n",
    "Tais conceitos foram aplicados para o desenvolvimento de um *user-friendly software*, de forma a auxiliar em projetos de estudantes e pesquisadores, com diferentes formações, cujos objetivos podem ser\n",
    "\n",
    "\n",
    "\n",
    "\n",
    "\n",
    "\n"
   ]
  },
  {
   "cell_type": "markdown",
   "metadata": {},
   "source": [
    "- Identificação dos parâmentros que caracterizam as curvas de polarização."
   ]
  },
  {
   "cell_type": "code",
   "execution_count": null,
   "metadata": {},
   "outputs": [],
   "source": []
  },
  {
   "cell_type": "markdown",
   "metadata": {},
   "source": [
    "- Otimização de sistemas de proteção catódica"
   ]
  },
  {
   "cell_type": "code",
   "execution_count": null,
   "metadata": {},
   "outputs": [],
   "source": []
  },
  {
   "cell_type": "markdown",
   "metadata": {},
   "source": [
    "- Identificação de defeitos em projetos de proteção catódica. "
   ]
  },
  {
   "cell_type": "code",
   "execution_count": null,
   "metadata": {},
   "outputs": [],
   "source": []
  },
  {
   "cell_type": "markdown",
   "metadata": {},
   "source": [
    "## Trabalhos Publicados\n",
    "\n",
    "\n"
   ]
  }
 ],
 "metadata": {
  "kernelspec": {
   "display_name": "Python 3",
   "language": "python",
   "name": "python3"
  },
  "language_info": {
   "codemirror_mode": {
    "name": "ipython",
    "version": 3
   },
   "file_extension": ".py",
   "mimetype": "text/x-python",
   "name": "python",
   "nbconvert_exporter": "python",
   "pygments_lexer": "ipython3",
   "version": "3.7.1"
  }
 },
 "nbformat": 4,
 "nbformat_minor": 2
}
