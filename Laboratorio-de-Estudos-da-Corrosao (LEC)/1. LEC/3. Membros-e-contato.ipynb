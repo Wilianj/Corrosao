{
 "cells": [
  {
   "cell_type": "markdown",
   "metadata": {},
   "source": [
    "## Sobre nós\n",
    "\n",
    "O LEC foi fundado em... O LEC tem como um dos seus pilares agregar estudantes de diferentes cursos de graduação e pós-graduação da Universidade Federal Rural do Rio de Janeiro (UFRRJ), tais como Matemática, Física e Engenharias, com o intuito de garantir um ambiente acadêmico mais dinâmico e com mais possibilidades.\n",
    "\n",
    "...  \n",
    "\n",
    "\n",
    "## Membros\n",
    "\n",
    "\n",
    "- Docentes\n",
    "\n",
    " - Wilian Jeronimo dos Santos (UFRRJ)\n",
    "\n",
    "\n",
    "- Iniciação Científica\n",
    "\n",
    " - Julia .... formação engenharia....\n",
    "\n",
    " - Jessica  ... formação engenharia....\n",
    " \n",
    " - \n",
    "\n",
    "\n",
    "## Contato\n",
    "\n",
    "- e-mail: lec@ufrrj.br\n",
    "\n"
   ]
  }
 ],
 "metadata": {
  "kernelspec": {
   "display_name": "Python 3",
   "language": "python",
   "name": "python3"
  },
  "language_info": {
   "codemirror_mode": {
    "name": "ipython",
    "version": 3
   },
   "file_extension": ".py",
   "mimetype": "text/x-python",
   "name": "python",
   "nbconvert_exporter": "python",
   "pygments_lexer": "ipython3",
   "version": "3.7.1"
  }
 },
 "nbformat": 4,
 "nbformat_minor": 2
}
