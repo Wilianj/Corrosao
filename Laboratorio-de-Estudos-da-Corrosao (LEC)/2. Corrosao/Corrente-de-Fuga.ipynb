{
 "cells": [
  {
   "cell_type": "markdown",
   "metadata": {},
   "source": [
    "# Corrente de Fuga"
   ]
  },
  {
   "cell_type": "markdown",
   "metadata": {},
   "source": [
    "Interferências elétricas são bastante comuns no setor industrial. A corrente de fuga é um exemplo que pode afetar diretamente a corrosão. Ela acontece quando há falhas no isolamento devido ao mal dimensionamento, sobrecarga ou falta de manutenção nas estruturas que permitem que uma corrente inesperada seja liberada por uma fonte geradora. Essa corrente pode afetar instalações que já sofrem com a corrosão ou influenciar sistemas próximos a áreas de proteção catódica.\n",
    "\n",
    "Para frear esse tipo de problema, deve-se evitar a interligação de dutos, a manutenção deve ser constante, deve-se criar um caminho alternativo para a corrente de fuga, instalar juntas isolantes e realocar a fonte geradora de corrente. "
   ]
  },
  {
   "cell_type": "code",
   "execution_count": null,
   "metadata": {},
   "outputs": [],
   "source": []
  }
 ],
 "metadata": {
  "kernelspec": {
   "display_name": "Python 3",
   "language": "python",
   "name": "python3"
  },
  "language_info": {
   "codemirror_mode": {
    "name": "ipython",
    "version": 3
   },
   "file_extension": ".py",
   "mimetype": "text/x-python",
   "name": "python",
   "nbconvert_exporter": "python",
   "pygments_lexer": "ipython3",
   "version": "3.7.4"
  }
 },
 "nbformat": 4,
 "nbformat_minor": 2
}
