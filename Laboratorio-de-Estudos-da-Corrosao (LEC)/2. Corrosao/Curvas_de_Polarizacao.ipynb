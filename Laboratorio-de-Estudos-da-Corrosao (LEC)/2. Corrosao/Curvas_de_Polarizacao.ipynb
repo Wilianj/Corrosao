{
 "cells": [
  {
   "cell_type": "markdown",
   "metadata": {},
   "source": [
    "# Curvas de Polarização"
   ]
  },
  {
   "cell_type": "markdown",
   "metadata": {},
   "source": [
    "## A Curva de Polarização\n",
    "\n",
    "As curvas de polarização representam o efeito global de todas as reações que ocorrem simultaneamente sobre um eletrodo, uma combinação entre as curvas anódica e catódica. São a relação não linear entre a densidade de corrente elétrica e o potencial eletroquímico aplicado a uma estrutura metálica durante um determinado período de tempo.  "
   ]
  },
  {
   "cell_type": "markdown",
   "metadata": {},
   "source": [
    "## A polarização\n",
    "\n",
    "Qualquer metal em uma solução com seus íons apresenta um potencial de equilíbrio (Eeq) dado pela equação de Nerst:\n",
    "<br>\n",
    "<img src=\"eq1.jpg\">\n",
    "<br>\n"
   ]
  },
  {
   "cell_type": "markdown",
   "metadata": {},
   "source": [
    "   Em que E0 é o potencial de eletrodo padrão, R a constante dos gases perfeitos (8,314 J/Kmol), T a temperatura em Kelvin, n o número de elétrons da reação, F a constante de Faraday (96490C), [Ox] e [Rd] a concentração dos íons oxidados e reduzidos respectivamente.\n",
    "    \n",
    "   A polarização modifica o potencial inicial (Ecorr) quando outro potencial é imposto ao material devido à passagem de uma corrente elétrica, sendo a velocidade dessa reação controlada por uma lenta etapa eletroquímica que requer uma energia de ativação. É um processo que acontece em regiões anódicas e catódicas simultaneamente.\n",
    "\n",
    "   O potencial do catodo, quando recebe elétrons tende a ficar cada vez mais negativo até se estabilizar, onde ocorre a polarização da estrutura. Para sistemas de Proteção Catódica, por exemplo, as curvas de polarização representam a cinética da corrosão eletroquímica, principalmente a curva de polarização catódica da estrutura que será protegida.\n",
    "    \n",
    "   Tendo por base os diferentes valores de densidade de corrente elétrica obtidos na superfície metálica de uma determinada estrutura, é possível se obter os respectivos valores de potencial eletroquímico durante um determinado período de tempo. E através dos valores mensurados, é possível por meio de uma análise inversa determinar os parâmetros que caracterizam essas curvas. \n",
    "   Contudo, por tal procedimento ser custoso e exigir um prolongado período de teste, torna-se mais viável a modelagem de curvas de polarização teóricas que se aproximem do fenômeno natural. Isso é necessário uma vez que essas curvas são dinâmicas, variam no tempo e possuem uma relação não linear entre a densidade de corrente e o potencial eletroquímico. Além disso, fatores como pressão, temperatura, pH e condição de aeração influenciam diretamente na medição de tais variáveis.\n"
   ]
  },
  {
   "cell_type": "markdown",
   "metadata": {},
   "source": [
    "Na literatura encontram-se diversas equações que visam representar esse fenômeno. Dentre elas tem-se a equação de Wagner e Traud:\n",
    "\n",
    "<br>\n",
    "<img src=\"eq2.jpg\">\n",
    "<br>"
   ]
  },
  {
   "cell_type": "markdown",
   "metadata": {},
   "source": [
    "Em que Ecorr é o potencial de repouso do mesmo metal no mesmo eletrólito; icorr a corrente de corrosão e βa  e βc as constantes anódica e catódica, respectivamente. "
   ]
  },
  {
   "cell_type": "markdown",
   "metadata": {},
   "source": [
    "### Referências\n",
    "GENTIL, V., Corrosão. LTC, 5ª edição: Rio de Janeiro, Brasil, 2007.\n",
    "\n",
    "GOMES, L. Corrosão e proteção catódica de tubulações enterradas e tanques em plantas industriais.\n",
    "\n",
    "SILVA, C. H. P., ALMEIDA, L. P. F., Monitoramento de cinética de corrosão. Universidade Federal do Espírito Santo, Centro Tecnológico de Engenharia mecânica, Vitória, 2010. "
   ]
  },
  {
   "cell_type": "code",
   "execution_count": null,
   "metadata": {},
   "outputs": [],
   "source": []
  }
 ],
 "metadata": {
  "kernelspec": {
   "display_name": "Python 3",
   "language": "python",
   "name": "python3"
  },
  "language_info": {
   "codemirror_mode": {
    "name": "ipython",
    "version": 3
   },
   "file_extension": ".py",
   "mimetype": "text/x-python",
   "name": "python",
   "nbconvert_exporter": "python",
   "pygments_lexer": "ipython3",
   "version": "3.7.4"
  }
 },
 "nbformat": 4,
 "nbformat_minor": 2
}
