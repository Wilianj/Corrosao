{
 "cells": [
  {
   "cell_type": "markdown",
   "metadata": {},
   "source": [
    "# Proteção Catódica"
   ]
  },
  {
   "cell_type": "markdown",
   "metadata": {},
   "source": [
    "A proteção catódica é uma técnica amplamente utilizada no combate à corrosão. Consiste na inserção de corrente na superfície da estrutura metálica que se deseja proteger a fim de que as regiões anódicas se tornem catódicas e a corrosão seja interrompida. Tal processo ocorre porque o potencial do metal é reduzido e assim a estrutura passa a ser protegida. \n",
    "\n",
    "A proteção dependerá do meio no qual se deseja trabalhar, solo ou água, e qual técnica será a melhor aplicada no combate a corrosão: Anodos de Sacrifício ou Corrente Impressa. \n",
    "\n",
    "\n"
   ]
  },
  {
   "cell_type": "markdown",
   "metadata": {},
   "source": [
    "## Proteção Catódica com Anodos de Sacrifício ou Galvânicos\n",
    "\n",
    "Um anodo galvânico é composto por um metal mais eletronegativo que a estrutura que se quer proteger, assim quando ligado a ela por meio de um eletrólito, este irá se comportar como polo anódico, o que interromperá a corrosão da estrutura metálica. A proteção só ocorre porque é gerado um fluxo de corrente advindo da diferença de potencial entre o metal e o anodo metálico escolhido.\n",
    "\n",
    "Os anodos mais utilizados nessa técnica costumam ser de Zinco e Alumínio para instalações em água, e de Magnésio e Zinco para estruturas enterradas, no solo. Quando são enterrados, geralmente os anodos são envoltos em uma mistura de gesso, betonita e sulfato de sódio, que é o enchimento condutor que reduz a resistividade elétrica entre o anodo e o solo.\n",
    "\t\n",
    "#### Vantagens dessa técnica:\n",
    "\n",
    "- Baixo custo de instalação e manutenção\n",
    "- Não necessita de corrente alternada no local\n",
    "\n",
    "#### Desvantagens dessa técnica:\n",
    "- Requer substituição periódica\n",
    "- Quantidade de corrente limitada pela diferença de potencial\n",
    "- Não possibilita regulagem"
   ]
  },
  {
   "cell_type": "markdown",
   "metadata": {},
   "source": [
    "## Proteção Catódica por Corrente Impressa\n",
    "\n",
    "Um retificador é alimentado com corrente alternada e é utilizado para converter e fornecer corrente elétrica contínua a estrutura. Tal transformador diminui a tensão para o valor desejado e a estrutura será ligada ao seu polo negativo. Nesta técnica de proteção os anodos utilizados são inertes.\n",
    "\n",
    "Eletrodos são utilizados para fechar o circuito do sistema. Uns dos mais utilizados são o de Prata/Cloreto de Prata e o de Cobre/ Sulfato de Cobre, o qual gera potenciais tubo/solo e tanque/solo iguais ou mais negativos que -0,85 volts. \n",
    "\n",
    "#### Vantagens dessa técnica:\n",
    "\n",
    "- Possibilidade de controle da corrente\n",
    "- Maior fornecimento de corrente a estrutura\n",
    "\n",
    "#### Desvantagens dessa técnica:\n",
    "- Maior gasto de energia\n",
    "- Possibilidade de interferência com outras estruturas metálicas enterradas"
   ]
  },
  {
   "cell_type": "markdown",
   "metadata": {},
   "source": [
    "### Referências:\n",
    "\n",
    "GOMES, L. Corrosão e proteção catódica de tubulações enterradas e tanques em plantas industriais.\n",
    "\n",
    "SANTOS, W. Análise de Sistemas otimizados de Proteção Catódica usando Métodos numéricos dependentes da função de Green. COPPE, Universidade Federal do Rio de Janeiro, Rio de Janeiro, 2015.\n",
    "\n",
    "WOLYNEC, S., Técnicas Eletroquímicas em Corrosão. EDUSP, 1ª edição: Brasil, 2013. \n",
    "\n",
    "GENTIL, V., Corrosão. LTC, 5ª edição: Rio de Janeiro, Brasil, 2007.\n"
   ]
  }
 ],
 "metadata": {
  "kernelspec": {
   "display_name": "Python 3",
   "language": "python",
   "name": "python3"
  },
  "language_info": {
   "codemirror_mode": {
    "name": "ipython",
    "version": 3
   },
   "file_extension": ".py",
   "mimetype": "text/x-python",
   "name": "python",
   "nbconvert_exporter": "python",
   "pygments_lexer": "ipython3",
   "version": "3.7.4"
  }
 },
 "nbformat": 4,
 "nbformat_minor": 2
}
