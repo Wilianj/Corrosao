{
 "cells": [
  {
   "cell_type": "markdown",
   "metadata": {},
   "source": [
    "# Corrosão Eletroquímica"
   ]
  },
  {
   "cell_type": "markdown",
   "metadata": {},
   "source": [
    "O fenômeno da corrosão é um processo físico-químico na qual um material é deteriorado quando exposto a um ambiente/meio que favoreça a reação eletroquímica. Por consequência, este material perde suas propriedades e sua utilidade fica comprometida. Além disso, a durabilidade está relacionada à extensão do dano corrosivo causado ao material. "
   ]
  },
  {
   "attachments": {
    "Capturar%20-%20Copia.PNG": {
     "image/png": "[encoded data removed]"
    },
    "Capturar.PNG": {
     "image/png": "[encoded data removed]"
    }
   },
   "cell_type": "markdown",
   "metadata": {},
   "source": [
    "## Componentes de uma célula corrosiva\n",
    "\n",
    "#### Anodo:\n",
    "É o eletrodo onde há oxidação (corrosão), no qual a corrente entra no eletrólito e há perda de elétrons. \t\n",
    "![Capturar.PNG](attachment:Capturar.PNG)\n",
    "\n",
    "#### Catodo:\n",
    "É o eletrodo onde há redução (deposição), no qual entra a corrente que flui através do eletrólito.\n",
    "![Capturar%20-%20Copia.PNG](attachment:Capturar%20-%20Copia.PNG)\n",
    "\n",
    "#### Eletrólito:\n",
    "Meio no qual a reação eletroquímica ocorre, é o condutor de corrente (solo/água).\n",
    "\n",
    "#### Ponte salina:\n",
    "É a ligação entre o eletrodo positivo e o eletrodo negativo que fecha o circuito do sistema e mantem os íons em equilíbrio."
   ]
  },
  {
   "cell_type": "markdown",
   "metadata": {},
   "source": [
    "## Influenciadores da corrosão\n",
    "- Falhas no revestimento: trincas, arranhões, mal acabamento;\n",
    "\n",
    "- Ph do meio: define se as instalações estão operando dentro da faixa de corrosão, passividade ou imunidade;\n",
    "\n",
    "- Manutenção precária;\n",
    "\n",
    "- Resistividade do solo: quanto menor, maior a taxa de corrosão;\n",
    "\n",
    "- Composição química do solo\n",
    "\n",
    "- Presença de correntes de fuga\n",
    "\n",
    "\n",
    "Para evitar e retardar a corrosão, diversas técnicas podem ser empregadas, como a Proteção Catódica, o uso de tintas especiais, películas de proteção, entre outros. Essas técnicas visam evitar a destruição ou fragilização de estruturas metálicas submetidas a corrosão eletroquímica a longo prazo."
   ]
  },
  {
   "cell_type": "markdown",
   "metadata": {},
   "source": [
    "### Referências\n",
    "\n",
    "GENTIL, V., Corrosão. LTC, 5ª edição: Rio de Janeiro, Brasil, 2007.\n",
    "\n",
    "GOMES, L. Corrosão e proteção catódica de tubulações enterradas e tanques em plantas industriais."
   ]
  },
  {
   "cell_type": "code",
   "execution_count": null,
   "metadata": {},
   "outputs": [],
   "source": []
  }
 ],
 "metadata": {
  "kernelspec": {
   "display_name": "Python 3",
   "language": "python",
   "name": "python3"
  },
  "language_info": {
   "codemirror_mode": {
    "name": "ipython",
    "version": 3
   },
   "file_extension": ".py",
   "mimetype": "text/x-python",
   "name": "python",
   "nbconvert_exporter": "python",
   "pygments_lexer": "ipython3",
   "version": "3.7.4"
  }
 },
 "nbformat": 4,
 "nbformat_minor": 2
}
