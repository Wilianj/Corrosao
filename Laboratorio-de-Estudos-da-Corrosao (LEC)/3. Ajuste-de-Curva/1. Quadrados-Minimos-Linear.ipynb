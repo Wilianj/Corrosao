{
 "cells": [
  {
   "cell_type": "markdown",
   "metadata": {},
   "source": [
    "## Um pouco de Álgebra Linear\n",
    "\n",
    "\n",
    "Qual siginificado devemos atribuir para um sistema de equações lineares $\\mathbf{Ax}=\\mathbf{b}$ se a matriz $\\mathbf{A}$ não é quadrada?\n",
    "\n",
    "Os problemas (sistemas) que possuem um número de dados (equações) $m$ maior que o número de parâmetros (incógnitas) $n$ são na maioria das vezes $\\textbf{incompatíveis}$. Desta forma, não podemos garantir que o vetor $\\mathbf{b}$ seja uma combinação linear dos vetores colunas da matriz $\\mathbf{A}$, visto que tais vetores não foram uma base para o espaço vetorial $\\Re^m$. Para que o espaço coluna da matriz $\\mathbf{A},  $C($\\mathbf{A})$, fosse o $\\Re^m$ seria necessário termos $m$ vetores colunas linearmente independentes, o que é impossível visto que $m>n$ em $\\textbf{problemas de quadros mínimos}$. \n",
    "\n",
    "\n",
    "Os problemas de quadrados mínimos surgem com frequência em determinadas áreas de pesquisa quando buscamos aproximações para dados que medidas obtidas experimentalmente, em geral, com um certo grau de $\\textbf{incerteza}$. Assim, dado um sistema $m \\times n$ \n",
    "\n",
    "\\begin{equation}\n",
    "\\mathbf{Ax}=\\mathbf{b},\n",
    "\\label{eq:ax=b}\\tag{1}\n",
    "\\end{equation}\n",
    "\n",
    "com $m<n$, vamos procurar um vetor $\\mathbf{x} \\in \\Re^n$ tal que $\\mathbf{Ax}$ esteja o mais próximo possível do vetor $\\mathbf{b}$.\n",
    "\n",
    "\n",
    "Suponha que o vetor $\\mathbf{b}$ de dimensão $m \\times 1$ não pertence ao espaço coluna de $\\mathbf{A}$, ou seja, não existe solução exata para o Sistema $\\eqref{eq:ax=b}$, conforme ilustrado abaixo.\n",
    "\n",
    "\n",
    "figura/tex...\n",
    "\n",
    "...\n",
    "\n",
    "\n"
   ]
  },
  {
   "cell_type": "code",
   "execution_count": null,
   "metadata": {},
   "outputs": [],
   "source": []
  },
  {
   "cell_type": "markdown",
   "metadata": {},
   "source": [
    "## Um pouco de Cálculo Numérico\n",
    "\n",
    "\n",
    "\n",
    "\n",
    "\n",
    "\n",
    "\n",
    "....\n",
    "\n",
    "\n",
    "\n",
    "\n",
    "\n",
    "\n",
    "\n",
    "\n"
   ]
  },
  {
   "cell_type": "code",
   "execution_count": 14,
   "metadata": {},
   "outputs": [
    {
     "data": {
      "application/vnd.jupyter.widget-view+json": {
       "model_id": "8f25591283a24106975010583f92775f",
       "version_major": 2,
       "version_minor": 0
      },
      "text/plain": [
       "Sheet(columns=5, layout=Layout(height='auto', width='auto'), rows=5)"
      ]
     },
     "metadata": {},
     "output_type": "display_data"
    }
   ],
   "source": [
    "import ipysheet\n",
    "sheet = ipysheet.sheet()\n",
    "sheet"
   ]
  },
  {
   "cell_type": "code",
   "execution_count": null,
   "metadata": {},
   "outputs": [],
   "source": [
    "import numpy as np\n",
    "import pylab\n",
    "import matplotlib.pyplot as plt\n",
    "import pandas as pd\n",
    "import ipysheet\n",
    "from ipysheet import sheet, cell, row, column, cell_range\n",
    "\n",
    "sheet1 = sheet(rows=10,columns=2)\n",
    "cell1=cell(0,0,'oi')\n",
    "cell2=cell(2,0,'ok')\n",
    "cell_value=cell(2,2,42.)\n",
    "\n",
    "sheet1"
   ]
  }
 ],
 "metadata": {
  "kernelspec": {
   "display_name": "Python 3",
   "language": "python",
   "name": "python3"
  },
  "language_info": {
   "codemirror_mode": {
    "name": "ipython",
    "version": 3
   },
   "file_extension": ".py",
   "mimetype": "text/x-python",
   "name": "python",
   "nbconvert_exporter": "python",
   "pygments_lexer": "ipython3",
   "version": "3.7.1"
  }
 },
 "nbformat": 4,
 "nbformat_minor": 2
}
